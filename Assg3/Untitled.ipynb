{
 "cells": [
  {
   "cell_type": "code",
   "execution_count": 46,
   "metadata": {},
   "outputs": [],
   "source": [
    "import numpy as np\n",
    "\n",
    "\n",
    "def generate_copy_sequence(length, bits=8):\n",
    "    seq = np.zeros([length, bits+1], dtype=np.float32)\n",
    "    for idx in range(length):\n",
    "        seq[idx, :bits] = np.random.rand(bits).round()\n",
    "    flag_delim = np.zeros((1,bits+1))\n",
    "\n",
    "    flag_delim[0,-1]=1\n",
    "    seq = np.concatenate((seq,flag_delim),axis=0)\n",
    "    return seq"
   ]
  },
  {
   "cell_type": "code",
   "execution_count": 48,
   "metadata": {},
   "outputs": [
    {
     "name": "stdout",
     "output_type": "stream",
     "text": [
      "(1, 9)\n",
      "(30, 9)\n",
      "[[0. 0. 0. 0. 0. 1. 0. 0. 0.]\n",
      " [0. 0. 0. 0. 1. 1. 0. 0. 0.]\n",
      " [0. 0. 0. 0. 0. 1. 1. 0. 0.]\n",
      " [1. 0. 1. 1. 1. 0. 1. 0. 0.]\n",
      " [1. 1. 1. 0. 0. 0. 0. 1. 0.]\n",
      " [1. 1. 0. 1. 0. 0. 1. 0. 0.]\n",
      " [1. 0. 1. 0. 0. 1. 1. 0. 0.]\n",
      " [1. 1. 1. 1. 0. 1. 0. 0. 0.]\n",
      " [0. 1. 0. 0. 1. 1. 1. 0. 0.]\n",
      " [1. 1. 1. 0. 0. 1. 0. 1. 0.]\n",
      " [1. 1. 0. 1. 0. 1. 0. 0. 0.]\n",
      " [1. 0. 1. 1. 1. 0. 1. 0. 0.]\n",
      " [0. 1. 0. 0. 0. 1. 1. 0. 0.]\n",
      " [1. 0. 0. 0. 0. 1. 1. 0. 0.]\n",
      " [0. 1. 1. 0. 0. 1. 0. 0. 0.]\n",
      " [1. 1. 0. 1. 0. 1. 0. 0. 0.]\n",
      " [1. 0. 0. 0. 0. 0. 0. 1. 0.]\n",
      " [0. 1. 0. 0. 1. 1. 0. 1. 0.]\n",
      " [0. 0. 1. 1. 0. 0. 1. 0. 0.]\n",
      " [1. 1. 0. 1. 1. 1. 1. 1. 0.]\n",
      " [0. 1. 1. 0. 1. 1. 0. 0. 0.]\n",
      " [1. 1. 0. 0. 1. 1. 0. 1. 0.]\n",
      " [0. 1. 0. 0. 0. 1. 0. 0. 0.]\n",
      " [1. 1. 0. 0. 0. 1. 1. 1. 0.]\n",
      " [1. 0. 1. 1. 0. 0. 1. 0. 0.]\n",
      " [0. 0. 1. 1. 1. 0. 0. 1. 0.]\n",
      " [0. 0. 0. 1. 0. 1. 1. 1. 0.]\n",
      " [0. 0. 0. 0. 1. 0. 1. 1. 0.]\n",
      " [0. 1. 0. 1. 0. 1. 0. 1. 0.]\n",
      " [1. 0. 0. 1. 1. 1. 1. 1. 0.]\n",
      " [0. 0. 0. 0. 0. 0. 0. 0. 1.]]\n"
     ]
    }
   ],
   "source": [
    "print(generate_copy_sequence(30))"
   ]
  },
  {
   "cell_type": "markdown",
   "metadata": {},
   "source": [
    "## 1. Filling in the Gaps\n",
    "\n",
    "### a) Constraints of Parameters\n",
    "\n",
    "### b) Diagram of Dependencies"
   ]
  },
  {
   "cell_type": "code",
   "execution_count": null,
   "metadata": {},
   "outputs": [],
   "source": []
  },
  {
   "cell_type": "code",
   "execution_count": null,
   "metadata": {},
   "outputs": [],
   "source": []
  }
 ],
 "metadata": {
  "kernelspec": {
   "display_name": "Python 3",
   "language": "python",
   "name": "python3"
  },
  "language_info": {
   "codemirror_mode": {
    "name": "ipython",
    "version": 3
   },
   "file_extension": ".py",
   "mimetype": "text/x-python",
   "name": "python",
   "nbconvert_exporter": "python",
   "pygments_lexer": "ipython3",
   "version": "3.6.4"
  }
 },
 "nbformat": 4,
 "nbformat_minor": 2
}
